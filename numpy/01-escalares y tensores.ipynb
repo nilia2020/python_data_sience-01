{
 "cells": [
  {
   "cell_type": "markdown",
   "metadata": {},
   "source": [
    "### Numpy\n",
    "\n",
    "#### ¿Qué vas a aprender en este curso?\n",
    "\n",
    "Aprenderas a manejar y analizar grandes volúmenes de datos de forma eficiente utilizando 3 herramientas fundamentales en Python:\n",
    "\n",
    "- NumPy: Te permite realizar operaciones matemáticas y estadísticas de alto rendimiento.\n",
    "- Pandas: Facilita la manipulación de datos de forma rápida y sencilla. Ideal para trabajar con datos tabulares como los que se encuentras en hojas de cálculo o bases de datos.\n",
    "- Matplotlib: Te permite visualizar datos de forma efectiva."
   ]
  },
  {
   "cell_type": "code",
   "execution_count": 1,
   "metadata": {},
   "outputs": [],
   "source": [
    "import numpy as np\n"
   ]
  },
  {
   "cell_type": "markdown",
   "metadata": {},
   "source": [
    "### Dimensiones"
   ]
  },
  {
   "cell_type": "markdown",
   "metadata": {},
   "source": [
    "los escalares tienen dimension 0\n",
    "los vectores 1 dimension\n",
    "las matrices 2 dimensiones\n",
    "Todos son tensores. Los tensores de 2D son las matrices, de 1D los vectores y 0D los escalares."
   ]
  },
  {
   "cell_type": "code",
   "execution_count": 2,
   "metadata": {},
   "outputs": [
    {
     "name": "stdout",
     "output_type": "stream",
     "text": [
      "42\n",
      "<class 'numpy.ndarray'>\n"
     ]
    }
   ],
   "source": [
    "escalar = np.array(42)\n",
    "print(escalar)\n",
    "print(type(escalar))"
   ]
  },
  {
   "cell_type": "code",
   "execution_count": 3,
   "metadata": {},
   "outputs": [
    {
     "name": "stdout",
     "output_type": "stream",
     "text": [
      "[29 30 33 31 32 35 42]\n"
     ]
    }
   ],
   "source": [
    "vector = np.array([29, 30, 33, 31,32,35,42])\n",
    "print(vector)"
   ]
  },
  {
   "cell_type": "code",
   "execution_count": 4,
   "metadata": {},
   "outputs": [
    {
     "name": "stdout",
     "output_type": "stream",
     "text": [
      "[[1 2 3]\n",
      " [4 5 6]\n",
      " [7 8 9]]\n"
     ]
    }
   ],
   "source": [
    "matrix = np.array([[1,2,3],[4,5,6],[7,8,9]])\n",
    "print(matrix)"
   ]
  },
  {
   "cell_type": "code",
   "execution_count": 5,
   "metadata": {},
   "outputs": [
    {
     "name": "stdout",
     "output_type": "stream",
     "text": [
      "[[[1 2]\n",
      "  [3 4]\n",
      "  [5 6]\n",
      "  [7 8]]]\n"
     ]
    }
   ],
   "source": [
    "tensor = np.array([[[1,2],[3,4],[5,6],[7,8]]])\n",
    "print(tensor)"
   ]
  },
  {
   "cell_type": "code",
   "execution_count": 6,
   "metadata": {},
   "outputs": [
    {
     "name": "stdout",
     "output_type": "stream",
     "text": [
      "[0 1 2 3 4 5 6 7 8 9]\n"
     ]
    }
   ],
   "source": [
    "array_arange = np.arange(10)\n",
    "print(array_arange)"
   ]
  },
  {
   "cell_type": "code",
   "execution_count": 8,
   "metadata": {},
   "outputs": [
    {
     "name": "stdout",
     "output_type": "stream",
     "text": [
      "[[1. 0. 0. 0. 0.]\n",
      " [0. 1. 0. 0. 0.]\n",
      " [0. 0. 1. 0. 0.]\n",
      " [0. 0. 0. 1. 0.]\n",
      " [0. 0. 0. 0. 1.]]\n"
     ]
    }
   ],
   "source": [
    "eye_matrix = np.eye(5)\n",
    "print(eye_matrix)"
   ]
  },
  {
   "cell_type": "code",
   "execution_count": 9,
   "metadata": {},
   "outputs": [
    {
     "name": "stdout",
     "output_type": "stream",
     "text": [
      "[[1 0 0 0 0]\n",
      " [0 2 0 0 0]\n",
      " [0 0 3 0 0]\n",
      " [0 0 0 4 0]\n",
      " [0 0 0 0 5]]\n"
     ]
    }
   ],
   "source": [
    "diag = np.diag([1,2,3,4,5])\n",
    "print(diag)"
   ]
  },
  {
   "cell_type": "code",
   "execution_count": 11,
   "metadata": {},
   "outputs": [
    {
     "name": "stdout",
     "output_type": "stream",
     "text": [
      "[[0.80266827 0.04774039 0.27332655]\n",
      " [0.45186939 0.90824528 0.61257522]]\n"
     ]
    }
   ],
   "source": [
    "random = np.random.random((2,3))  # 2 filas y 3 columnas\n",
    "print(random)"
   ]
  },
  {
   "cell_type": "markdown",
   "metadata": {},
   "source": [
    "### Existen 6 mecanismos generales para crear Arrays:\n",
    "\n",
    "1. Conversión desde otras estructuras de Python (por ejemplo, listas y tuplas)\n",
    "2. Funciones intrínsecas de NumPy para la creación de arrays (por ejemplo, arange, ones, zeros, etc.)\n",
    "3. Replicación, unión o mutación de matrices existentes\n",
    "4. Lectura de matrices desde disco, ya sea desde formatos estándar o personalizados\n",
    "5. Creación de matrices a partir de bytes sin procesar mediante cadenas o buffers.\n",
    "6. Utilización de funciones especiales de biblioteca (por ejemplo, random)\n"
   ]
  }
 ],
 "metadata": {
  "kernelspec": {
   "display_name": "Python 3",
   "language": "python",
   "name": "python3"
  },
  "language_info": {
   "codemirror_mode": {
    "name": "ipython",
    "version": 3
   },
   "file_extension": ".py",
   "mimetype": "text/x-python",
   "name": "python",
   "nbconvert_exporter": "python",
   "pygments_lexer": "ipython3",
   "version": "3.10.12"
  }
 },
 "nbformat": 4,
 "nbformat_minor": 2
}
