{
 "cells": [
  {
   "cell_type": "code",
   "execution_count": 6,
   "metadata": {},
   "outputs": [
    {
     "name": "stdout",
     "output_type": "stream",
     "text": [
      "20\n",
      "50\n",
      "40\n",
      "[20 30 40]\n",
      "[20 30 40 50]\n",
      "[]\n"
     ]
    }
   ],
   "source": [
    "import numpy as np\n",
    "\n",
    "array = np.array([10, 20, 30, 40, 50])\n",
    "print(array[1])\n",
    "print(array[-1])\n",
    "print(array[-2])\n",
    "print(array[1:4])\n",
    "print(array[1:7])\n",
    "print(array[-1:-7])\n"
   ]
  },
  {
   "cell_type": "code",
   "execution_count": 9,
   "metadata": {},
   "outputs": [
    {
     "name": "stdout",
     "output_type": "stream",
     "text": [
      "[False False False  True  True]\n",
      "[40 50]\n",
      "[40 50]\n"
     ]
    }
   ],
   "source": [
    "bool_index = array > 30\n",
    "print(bool_index)\n",
    "print(array[bool_index])\n",
    "print(array[array > 30])\n"
   ]
  },
  {
   "cell_type": "code",
   "execution_count": 10,
   "metadata": {},
   "outputs": [
    {
     "name": "stdout",
     "output_type": "stream",
     "text": [
      "[20 30 40]\n"
     ]
    }
   ],
   "source": [
    "index = [1,2,3]\n",
    "print(array[index])"
   ]
  },
  {
   "cell_type": "code",
   "execution_count": 11,
   "metadata": {},
   "outputs": [
    {
     "name": "stdout",
     "output_type": "stream",
     "text": [
      "[30 10 50]\n"
     ]
    }
   ],
   "source": [
    "index = [2,0,4]\n",
    "print(array[index])"
   ]
  },
  {
   "cell_type": "code",
   "execution_count": 22,
   "metadata": {},
   "outputs": [
    {
     "name": "stdout",
     "output_type": "stream",
     "text": [
      "[[4 7 8]\n",
      " [7 2 8]\n",
      " [7 5 5]]\n",
      "7\n",
      "[[4 7]\n",
      " [7 2]]\n",
      "[[4 7 8]\n",
      " [7 2 8]\n",
      " [7 5 5]]\n",
      "[[4]]\n",
      "[[2]]\n"
     ]
    }
   ],
   "source": [
    "array = np.random.randint(1,10, size=(3,3))\n",
    "print(array)\n",
    "print(array[0,1])\n",
    "print(array[:2,:2])\n",
    "print(array[:3,:3])\n",
    "print(array[:1,:1])\n",
    "print(array[1:2,1:2])"
   ]
  }
 ],
 "metadata": {
  "kernelspec": {
   "display_name": "ml",
   "language": "python",
   "name": "python3"
  },
  "language_info": {
   "codemirror_mode": {
    "name": "ipython",
    "version": 3
   },
   "file_extension": ".py",
   "mimetype": "text/x-python",
   "name": "python",
   "nbconvert_exporter": "python",
   "pygments_lexer": "ipython3",
   "version": "3.9.20"
  }
 },
 "nbformat": 4,
 "nbformat_minor": 2
}
