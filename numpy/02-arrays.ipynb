{
 "cells": [
  {
   "cell_type": "code",
   "execution_count": 1,
   "metadata": {},
   "outputs": [],
   "source": [
    "import numpy as np"
   ]
  },
  {
   "cell_type": "markdown",
   "metadata": {},
   "source": [
    "### Arrays y listas\n",
    "\n",
    "Las listas pueden tener cualquier dato, los arrays tienen datos con tipos homogeneos.\n",
    "\n",
    "| Característica\t| Listas de Python\t| Arrays de NumPy |\n",
    "|---|---|---|\n",
    "| Tipo de datos\t| Puede contener diferentes tipos\t| Todos los elementos deben ser del mismo tipo |\n",
    "| Tamaño |\tDinámico |\tFijo en la creación |\n",
    "| Eficiencia en cálculos| \tMenor |\tMayor |\n",
    "| Funciones matemáticas |\tLimitadas |\tAmplia gama de funciones |\n",
    "| Consumo de memoria |\tMayor |\tMenor |"
   ]
  },
  {
   "cell_type": "code",
   "execution_count": 5,
   "metadata": {},
   "outputs": [
    {
     "name": "stdout",
     "output_type": "stream",
     "text": [
      "2\n",
      "(2, 3)\n",
      "int64\n",
      "[[1 2 3]\n",
      " [4 5 6]]\n"
     ]
    }
   ],
   "source": [
    "array1 = np.array([[1, 2, 3],[ 4, 5, 6]])\n",
    "print(array1.ndim)\n",
    "print(array1.shape)\n",
    "print(array1.dtype)\n",
    "print(array1)"
   ]
  },
  {
   "cell_type": "markdown",
   "metadata": {},
   "source": [
    "### Tipos de datos\n",
    "| Tipo | detalle | rango |\n",
    "|---|---|---|\n",
    "| uint8 | entero sin signo | 0 a 255 |\n",
    "| float32 | numero de punto flotante de rango moderado | 1.175494351e-38 a 3.402823466e+38 |\n",
    "| float64 | numero de punto flotante de doble precision | 2.2250738585072014e-308 a 1.7976931348623157e+308 |\n",
    "\n"
   ]
  },
  {
   "cell_type": "code",
   "execution_count": 6,
   "metadata": {},
   "outputs": [
    {
     "name": "stdout",
     "output_type": "stream",
     "text": [
      "3\n",
      "uint8\n"
     ]
    }
   ],
   "source": [
    "z = np.array(3, dtype='uint8')\n",
    "print(z)\n",
    "print(z.dtype)"
   ]
  },
  {
   "cell_type": "code",
   "execution_count": 7,
   "metadata": {},
   "outputs": [
    {
     "name": "stdout",
     "output_type": "stream",
     "text": [
      "[[1. 2. 3.]\n",
      " [4. 5. 6.]]\n",
      "float64\n"
     ]
    }
   ],
   "source": [
    "double_array = np.array([[1, 2, 3],[ 4, 5, 6]], dtype='d')\n",
    "print(double_array)\n",
    "print(double_array.dtype)"
   ]
  },
  {
   "cell_type": "code",
   "execution_count": 8,
   "metadata": {},
   "outputs": [
    {
     "name": "stdout",
     "output_type": "stream",
     "text": [
      "3.0\n",
      "float32\n"
     ]
    }
   ],
   "source": [
    "z = z.astype('float32')\n",
    "print(z)\n",
    "print(z.dtype)"
   ]
  },
  {
   "cell_type": "code",
   "execution_count": 9,
   "metadata": {},
   "outputs": [
    {
     "name": "stdout",
     "output_type": "stream",
     "text": [
      "21\n"
     ]
    }
   ],
   "source": [
    "array2 = np.array([[1, 2, 3],[ 4, 5, 6]])\n",
    "sum = np.sum(array2)\n",
    "print(sum)"
   ]
  },
  {
   "cell_type": "code",
   "execution_count": 11,
   "metadata": {},
   "outputs": [
    {
     "name": "stdout",
     "output_type": "stream",
     "text": [
      "3.5\n"
     ]
    }
   ],
   "source": [
    "array3 = np.array([[1, 2, 3],[ 4, 5, 6]])\n",
    "mean = np.mean(array3)\n",
    "print(mean)"
   ]
  },
  {
   "cell_type": "code",
   "execution_count": 12,
   "metadata": {},
   "outputs": [
    {
     "name": "stdout",
     "output_type": "stream",
     "text": [
      "1.707825127659933\n"
     ]
    }
   ],
   "source": [
    "array4 = np.array([[1, 2, 3],[ 4, 5, 6]])\n",
    "std = np.std(array4)\n",
    "print(std)"
   ]
  }
 ],
 "metadata": {
  "kernelspec": {
   "display_name": "Python 3",
   "language": "python",
   "name": "python3"
  },
  "language_info": {
   "codemirror_mode": {
    "name": "ipython",
    "version": 3
   },
   "file_extension": ".py",
   "mimetype": "text/x-python",
   "name": "python",
   "nbconvert_exporter": "python",
   "pygments_lexer": "ipython3",
   "version": "3.10.12"
  }
 },
 "nbformat": 4,
 "nbformat_minor": 2
}
