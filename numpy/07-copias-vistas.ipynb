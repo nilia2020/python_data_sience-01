{
 "cells": [
  {
   "cell_type": "code",
   "execution_count": 7,
   "metadata": {},
   "outputs": [],
   "source": [
    "import numpy as np\n",
    "survey_responses = np.array([\"bueno\", \"excelente\", \"malo\", \"bueno\", \"bueno\", \"malo\", \"malo\", \"bueno\", \"excelente\", \"malo\", \"bueno\"])"
   ]
  },
  {
   "cell_type": "code",
   "execution_count": 8,
   "metadata": {},
   "outputs": [
    {
     "name": "stdout",
     "output_type": "stream",
     "text": [
      "Original survey responses: ['bueno' 'excelente' 'malo' 'bueno' 'bueno' 'malo' 'malo' 'bueno'\n",
      " 'excelente' 'malo' 'bueno']\n",
      "Unique responses: ['bueno' 'excelente' 'malo']\n",
      "Number of 'bueno' responses: 5\n"
     ]
    }
   ],
   "source": [
    "print(\"Original survey responses:\", survey_responses)\n",
    "print(\"Unique responses:\", np.unique(survey_responses))\n",
    "print(\"Number of 'bueno' responses:\", np.sum(survey_responses == \"bueno\"))"
   ]
  },
  {
   "cell_type": "code",
   "execution_count": 9,
   "metadata": {},
   "outputs": [
    {
     "name": "stdout",
     "output_type": "stream",
     "text": [
      "Unique elements: ['bueno' 'excelente' 'malo']\n",
      "Counts of unique elements: [5 2 4]\n"
     ]
    }
   ],
   "source": [
    "unique_elements, counts_elements = np.unique(survey_responses, return_counts=True)\n",
    "print(\"Unique elements:\", unique_elements)\n",
    "print(\"Counts of unique elements:\", counts_elements)"
   ]
  },
  {
   "cell_type": "code",
   "execution_count": 11,
   "metadata": {},
   "outputs": [
    {
     "name": "stdout",
     "output_type": "stream",
     "text": [
      "Original array: [0 1 2 3 4 5 6 7 8 9]\n",
      "View of the array: [0 1 2]\n",
      "Original array: [10 20 30  3  4  5  6  7  8  9]\n",
      "View of the array: [10 20 30]\n"
     ]
    }
   ],
   "source": [
    "array_x = np.arange(10)\n",
    "view_x = array_x[0:3]\n",
    "print(\"Original array:\", array_x)\n",
    "print(\"View of the array:\", view_x)\n",
    "array_x[0:3] = [10, 20, 30]\n",
    "print(\"Original array:\", array_x)\n",
    "print(\"View of the array:\", view_x)"
   ]
  },
  {
   "cell_type": "code",
   "execution_count": 21,
   "metadata": {},
   "outputs": [
    {
     "name": "stdout",
     "output_type": "stream",
     "text": [
      "Original array: [ 2  4  6  8 10 12 14 16 18 20]\n",
      "Copy of the array: [2 4 6]\n",
      "Original array: [10 20 30  8 10 12 14 16 18 20]\n",
      "Copy of the array: [2 4 6]\n",
      "es copia:  True\n",
      "es copia:  False\n"
     ]
    }
   ],
   "source": [
    "array_x = np.arange(2,21,2)\n",
    "copy_x = array_x[[0,1,2]]\n",
    "print(\"Original array:\", array_x)\n",
    "print(\"Copy of the array:\", copy_x)\n",
    "array_x[[0,1,2]] = [10, 20,30]\n",
    "print(\"Original array:\", array_x)\n",
    "print(\"Copy of the array:\", copy_x)\n",
    "print('es copia: ',copy_x.base is None)\n",
    "print('es copia: ',view_x.base is None)"
   ]
  }
 ],
 "metadata": {
  "kernelspec": {
   "display_name": "ml",
   "language": "python",
   "name": "python3"
  },
  "language_info": {
   "codemirror_mode": {
    "name": "ipython",
    "version": 3
   },
   "file_extension": ".py",
   "mimetype": "text/x-python",
   "name": "python",
   "nbconvert_exporter": "python",
   "pygments_lexer": "ipython3",
   "version": "3.9.20"
  }
 },
 "nbformat": 4,
 "nbformat_minor": 2
}
