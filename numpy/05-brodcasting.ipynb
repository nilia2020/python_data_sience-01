{
 "cells": [
  {
   "cell_type": "code",
   "execution_count": 1,
   "metadata": {},
   "outputs": [],
   "source": [
    "import numpy as np"
   ]
  },
  {
   "cell_type": "code",
   "execution_count": 3,
   "metadata": {},
   "outputs": [
    {
     "name": "stdout",
     "output_type": "stream",
     "text": [
      "[ 90. 180. 225. 135.  45.]\n"
     ]
    }
   ],
   "source": [
    "prices = np.array([100, 200, 250, 150, 50])\n",
    "discount = np.array([0.1])\n",
    "discounted_prices = prices - prices * discount\n",
    "print(discounted_prices)"
   ]
  },
  {
   "cell_type": "code",
   "execution_count": 5,
   "metadata": {},
   "outputs": [
    {
     "name": "stdout",
     "output_type": "stream",
     "text": [
      "[[452 288 120]\n",
      " [142 305 341]\n",
      " [175 218 252]]\n",
      "[[442 268  90]\n",
      " [132 285 311]\n",
      " [165 198 222]]\n"
     ]
    }
   ],
   "source": [
    "prices = np.random.randint(100, 500, size=(3, 3))\n",
    "discount = np.array([10,20,30])\n",
    "discounted_prices = prices - discount\n",
    "print(prices    )\n",
    "print(discounted_prices)"
   ]
  },
  {
   "cell_type": "code",
   "execution_count": 7,
   "metadata": {},
   "outputs": [
    {
     "name": "stdout",
     "output_type": "stream",
     "text": [
      "True\n",
      "False\n",
      "True\n"
     ]
    }
   ],
   "source": [
    "array = np.array([1, 2, 3, 4, 5])\n",
    "print(np.all(array > 0))\n",
    "print(np.all(array > 1))\n",
    "print(np.any(array > 1))"
   ]
  },
  {
   "cell_type": "code",
   "execution_count": 8,
   "metadata": {},
   "outputs": [
    {
     "name": "stdout",
     "output_type": "stream",
     "text": [
      "[1 2 3 4 5 6]\n"
     ]
    }
   ],
   "source": [
    "array_a = np.array([1, 2, 3])\n",
    "array_b = np.array([ 4, 5, 6])\n",
    "concatenated = np.concatenate((array_a, array_b))\n",
    "print(concatenated)"
   ]
  },
  {
   "cell_type": "code",
   "execution_count": 11,
   "metadata": {},
   "outputs": [
    {
     "name": "stdout",
     "output_type": "stream",
     "text": [
      "[[1 2 3]\n",
      " [4 5 6]]\n",
      "[[1 2 3]\n",
      " [4 5 6]]\n",
      "[1 2 3 4 5 6]\n"
     ]
    }
   ],
   "source": [
    "array_a = np.array([1, 2, 3])\n",
    "array_b = np.array([ 4, 5, 6])\n",
    "stacked = np.stack((array_a, array_b))\n",
    "stackedv = np.vstack((array_a, array_b))\n",
    "stackedh = np.hstack((array_a, array_b))\n",
    "print(stacked)\n",
    "print(stackedv)\n",
    "print(stackedh)"
   ]
  },
  {
   "cell_type": "code",
   "execution_count": 18,
   "metadata": {},
   "outputs": [
    {
     "name": "stdout",
     "output_type": "stream",
     "text": [
      "[ 1  2  3  4  5  6  7  8  9 10 11 12]\n",
      "[array([1, 2, 3, 4]), array([5, 6, 7, 8]), array([ 9, 10, 11, 12])]\n",
      "[1 2 3 4]\n",
      "[ 9 10 11 12]\n"
     ]
    }
   ],
   "source": [
    "array_c = np.arange(1, 13)\n",
    "split = np.split(array_c, 3)\n",
    "print(array_c)\n",
    "print(split)\n",
    "print(split[0])\n",
    "print(split[2])"
   ]
  }
 ],
 "metadata": {
  "kernelspec": {
   "display_name": "ml",
   "language": "python",
   "name": "python3"
  },
  "language_info": {
   "codemirror_mode": {
    "name": "ipython",
    "version": 3
   },
   "file_extension": ".py",
   "mimetype": "text/x-python",
   "name": "python",
   "nbconvert_exporter": "python",
   "pygments_lexer": "ipython3",
   "version": "3.9.20"
  }
 },
 "nbformat": 4,
 "nbformat_minor": 2
}
