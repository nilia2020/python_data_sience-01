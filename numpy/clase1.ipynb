{
 "cells": [
  {
   "cell_type": "markdown",
   "metadata": {},
   "source": [
    "### Numpy\n",
    "\n",
    "#### ¿Qué vas a aprender en este curso?\n",
    "\n",
    "Aprenderas a manejar y analizar grandes volúmenes de datos de forma eficiente utilizando 3 herramientas fundamentales en Python:\n",
    "\n",
    "- NumPy: Te permite realizar operaciones matemáticas y estadísticas de alto rendimiento.\n",
    "- Pandas: Facilita la manipulación de datos de forma rápida y sencilla. Ideal para trabajar con datos tabulares como los que se encuentras en hojas de cálculo o bases de datos.\n",
    "- Matplotlib: Te permite visualizar datos de forma efectiva."
   ]
  }
 ],
 "metadata": {
  "kernelspec": {
   "display_name": "ml",
   "language": "python",
   "name": "python3"
  },
  "language_info": {
   "name": "python",
   "version": "3.9.20"
  }
 },
 "nbformat": 4,
 "nbformat_minor": 2
}
