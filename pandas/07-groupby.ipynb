{
 "cells": [
  {
   "cell_type": "code",
   "execution_count": 1,
   "metadata": {},
   "outputs": [
    {
     "data": {
      "text/html": [
       "<div>\n",
       "<style scoped>\n",
       "    .dataframe tbody tr th:only-of-type {\n",
       "        vertical-align: middle;\n",
       "    }\n",
       "\n",
       "    .dataframe tbody tr th {\n",
       "        vertical-align: top;\n",
       "    }\n",
       "\n",
       "    .dataframe thead th {\n",
       "        text-align: right;\n",
       "    }\n",
       "</style>\n",
       "<table border=\"1\" class=\"dataframe\">\n",
       "  <thead>\n",
       "    <tr style=\"text-align: right;\">\n",
       "      <th></th>\n",
       "      <th>InvoiceNo</th>\n",
       "      <th>StockCode</th>\n",
       "      <th>Description</th>\n",
       "      <th>Quantity</th>\n",
       "      <th>InvoiceDate</th>\n",
       "      <th>UnitPrice</th>\n",
       "      <th>CustomerID</th>\n",
       "      <th>Country</th>\n",
       "    </tr>\n",
       "  </thead>\n",
       "  <tbody>\n",
       "    <tr>\n",
       "      <th>0</th>\n",
       "      <td>536365</td>\n",
       "      <td>85123A</td>\n",
       "      <td>WHITE HANGING HEART T-LIGHT HOLDER</td>\n",
       "      <td>6</td>\n",
       "      <td>2010-12-01 08:26:00</td>\n",
       "      <td>2.55</td>\n",
       "      <td>17850.0</td>\n",
       "      <td>United Kingdom</td>\n",
       "    </tr>\n",
       "    <tr>\n",
       "      <th>1</th>\n",
       "      <td>536365</td>\n",
       "      <td>71053</td>\n",
       "      <td>WHITE METAL LANTERN</td>\n",
       "      <td>6</td>\n",
       "      <td>2010-12-01 08:26:00</td>\n",
       "      <td>3.39</td>\n",
       "      <td>17850.0</td>\n",
       "      <td>United Kingdom</td>\n",
       "    </tr>\n",
       "    <tr>\n",
       "      <th>2</th>\n",
       "      <td>536365</td>\n",
       "      <td>84406B</td>\n",
       "      <td>CREAM CUPID HEARTS COAT HANGER</td>\n",
       "      <td>8</td>\n",
       "      <td>2010-12-01 08:26:00</td>\n",
       "      <td>2.75</td>\n",
       "      <td>17850.0</td>\n",
       "      <td>United Kingdom</td>\n",
       "    </tr>\n",
       "    <tr>\n",
       "      <th>3</th>\n",
       "      <td>536365</td>\n",
       "      <td>84029G</td>\n",
       "      <td>KNITTED UNION FLAG HOT WATER BOTTLE</td>\n",
       "      <td>6</td>\n",
       "      <td>2010-12-01 08:26:00</td>\n",
       "      <td>3.39</td>\n",
       "      <td>17850.0</td>\n",
       "      <td>United Kingdom</td>\n",
       "    </tr>\n",
       "    <tr>\n",
       "      <th>4</th>\n",
       "      <td>536365</td>\n",
       "      <td>84029E</td>\n",
       "      <td>RED WOOLLY HOTTIE WHITE HEART.</td>\n",
       "      <td>6</td>\n",
       "      <td>2010-12-01 08:26:00</td>\n",
       "      <td>3.39</td>\n",
       "      <td>17850.0</td>\n",
       "      <td>United Kingdom</td>\n",
       "    </tr>\n",
       "  </tbody>\n",
       "</table>\n",
       "</div>"
      ],
      "text/plain": [
       "  InvoiceNo StockCode                          Description  Quantity  \\\n",
       "0    536365    85123A   WHITE HANGING HEART T-LIGHT HOLDER         6   \n",
       "1    536365     71053                  WHITE METAL LANTERN         6   \n",
       "2    536365    84406B       CREAM CUPID HEARTS COAT HANGER         8   \n",
       "3    536365    84029G  KNITTED UNION FLAG HOT WATER BOTTLE         6   \n",
       "4    536365    84029E       RED WOOLLY HOTTIE WHITE HEART.         6   \n",
       "\n",
       "           InvoiceDate  UnitPrice  CustomerID         Country  \n",
       "0  2010-12-01 08:26:00       2.55     17850.0  United Kingdom  \n",
       "1  2010-12-01 08:26:00       3.39     17850.0  United Kingdom  \n",
       "2  2010-12-01 08:26:00       2.75     17850.0  United Kingdom  \n",
       "3  2010-12-01 08:26:00       3.39     17850.0  United Kingdom  \n",
       "4  2010-12-01 08:26:00       3.39     17850.0  United Kingdom  "
      ]
     },
     "execution_count": 1,
     "metadata": {},
     "output_type": "execute_result"
    }
   ],
   "source": [
    "import pandas as pd\n",
    "import numpy as np\n",
    "file_path = 'data/online_retail.csv'\n",
    "df = pd.read_csv(file_path)\n",
    "df.head()"
   ]
  },
  {
   "cell_type": "code",
   "execution_count": 2,
   "metadata": {},
   "outputs": [
    {
     "name": "stdout",
     "output_type": "stream",
     "text": [
      "Country\n",
      "United Kingdom          495478\n",
      "Germany                   9495\n",
      "France                    8557\n",
      "EIRE                      8196\n",
      "Spain                     2533\n",
      "Netherlands               2371\n",
      "Belgium                   2069\n",
      "Switzerland               2002\n",
      "Portugal                  1519\n",
      "Australia                 1259\n",
      "Norway                    1086\n",
      "Italy                      803\n",
      "Channel Islands            758\n",
      "Finland                    695\n",
      "Cyprus                     622\n",
      "Sweden                     462\n",
      "Unspecified                446\n",
      "Austria                    401\n",
      "Denmark                    389\n",
      "Japan                      358\n",
      "Poland                     341\n",
      "Israel                     297\n",
      "USA                        291\n",
      "Hong Kong                  288\n",
      "Singapore                  229\n",
      "Iceland                    182\n",
      "Canada                     151\n",
      "Greece                     146\n",
      "Malta                      127\n",
      "United Arab Emirates        68\n",
      "European Community          61\n",
      "RSA                         58\n",
      "Lebanon                     45\n",
      "Lithuania                   35\n",
      "Brazil                      32\n",
      "Czech Republic              30\n",
      "Bahrain                     19\n",
      "Saudi Arabia                10\n",
      "Name: count, dtype: int64\n"
     ]
    }
   ],
   "source": [
    "country_count = df['Country'].value_counts()\n",
    "print(country_count)"
   ]
  },
  {
   "cell_type": "code",
   "execution_count": 3,
   "metadata": {},
   "outputs": [
    {
     "name": "stdout",
     "output_type": "stream",
     "text": [
      "Country\n",
      "Australia                 83653\n",
      "Austria                    4827\n",
      "Bahrain                     260\n",
      "Belgium                   23152\n",
      "Brazil                      356\n",
      "Canada                     2763\n",
      "Channel Islands            9479\n",
      "Cyprus                     6317\n",
      "Czech Republic              592\n",
      "Denmark                    8188\n",
      "EIRE                     142637\n",
      "European Community          497\n",
      "Finland                   10666\n",
      "France                   110480\n",
      "Germany                  117448\n",
      "Greece                     1556\n",
      "Hong Kong                  4769\n",
      "Iceland                    2458\n",
      "Israel                     4353\n",
      "Italy                      7999\n",
      "Japan                     25218\n",
      "Lebanon                     386\n",
      "Lithuania                   652\n",
      "Malta                       944\n",
      "Netherlands              200128\n",
      "Norway                    19247\n",
      "Poland                     3653\n",
      "Portugal                  16180\n",
      "RSA                         352\n",
      "Saudi Arabia                 75\n",
      "Singapore                  5234\n",
      "Spain                     26824\n",
      "Sweden                    35637\n",
      "Switzerland               30325\n",
      "USA                        1034\n",
      "United Arab Emirates        982\n",
      "United Kingdom          4263829\n",
      "Unspecified                3300\n",
      "Name: Quantity, dtype: int64\n"
     ]
    }
   ],
   "source": [
    "country_quantity_sum = df.groupby('Country')['Quantity'].sum()\n",
    "print(country_quantity_sum)"
   ]
  },
  {
   "cell_type": "code",
   "execution_count": 10,
   "metadata": {},
   "outputs": [
    {
     "name": "stdout",
     "output_type": "stream",
     "text": [
      "             sum       mean        std  min   max  count  median\n",
      "Country                                                         \n",
      "Australia  83653  66.444003  97.686932 -120  1152   1259    24.0\n",
      "Austria     4827  12.037406  21.745485  -48   288    401     9.0\n",
      "Bahrain      260  13.684211  30.016759  -54    96     19     6.0\n",
      "Belgium    23152  11.189947  13.601441  -12   272   2069    10.0\n",
      "Brazil       356  11.125000   8.476723    2    24     32    10.0\n"
     ]
    }
   ],
   "source": [
    "country_stat = df.groupby('Country')['Quantity'].agg(['sum', 'mean', 'std', 'min', 'max', 'count', 'median'])\n",
    "print(country_stat.head())"
   ]
  },
  {
   "cell_type": "code",
   "execution_count": 12,
   "metadata": {},
   "outputs": [
    {
     "data": {
      "text/plain": [
       "Country    StockCode\n",
       "Australia  15036        600\n",
       "           15056BL        3\n",
       "           16161P       400\n",
       "           16169E        25\n",
       "           20665          6\n",
       "           20675        216\n",
       "           20676        216\n",
       "           20677        216\n",
       "           20685         50\n",
       "           20711        100\n",
       "Name: Quantity, dtype: int64"
      ]
     },
     "execution_count": 12,
     "metadata": {},
     "output_type": "execute_result"
    }
   ],
   "source": [
    "country_stock_group = df.groupby(['Country', 'StockCode'])['Quantity'].sum()\n",
    "country_stock_group.head(10)"
   ]
  },
  {
   "cell_type": "code",
   "execution_count": 18,
   "metadata": {},
   "outputs": [
    {
     "name": "stdout",
     "output_type": "stream",
     "text": [
      "Country\n",
      "Australia                137077.270\n",
      "Austria                   10154.320\n",
      "Bahrain                     548.400\n",
      "Belgium                   40910.960\n",
      "Brazil                     1143.600\n",
      "Canada                     3666.380\n",
      "Channel Islands           20086.290\n",
      "Cyprus                    12946.290\n",
      "Czech Republic              707.720\n",
      "Denmark                   18768.140\n",
      "EIRE                     263276.820\n",
      "European Community         1291.750\n",
      "Finland                   22326.740\n",
      "France                   197403.900\n",
      "Germany                  221698.210\n",
      "Greece                     4710.520\n",
      "Hong Kong                 10117.040\n",
      "Iceland                    4310.000\n",
      "Israel                     7907.820\n",
      "Italy                     16890.510\n",
      "Japan                     35340.620\n",
      "Lebanon                    1693.880\n",
      "Lithuania                  1661.060\n",
      "Malta                      2505.470\n",
      "Netherlands              284661.540\n",
      "Norway                    35163.460\n",
      "Poland                     7213.140\n",
      "Portugal                  29367.020\n",
      "RSA                        1002.310\n",
      "Saudi Arabia                131.170\n",
      "Singapore                  9120.390\n",
      "Spain                     54774.580\n",
      "Sweden                    36595.910\n",
      "Switzerland               56385.350\n",
      "USA                        1730.920\n",
      "United Arab Emirates       1902.280\n",
      "United Kingdom          8187806.364\n",
      "Unspecified                4749.790\n",
      "dtype: float64\n"
     ]
    }
   ],
   "source": [
    "def total_revenue(data):\n",
    "    return (data['Quantity'] * data['UnitPrice']).sum()\n",
    "\n",
    "# country_revenue = df.groupby('Country').apply(total_revenue) # deprecado\n",
    "country_revenue = df.groupby('Country').apply(total_revenue, include_groups=False)\n",
    "print(country_revenue)"
   ]
  },
  {
   "cell_type": "markdown",
   "metadata": {},
   "source": [
    "top 3 paises en venta"
   ]
  },
  {
   "cell_type": "code",
   "execution_count": 20,
   "metadata": {},
   "outputs": [
    {
     "name": "stdout",
     "output_type": "stream",
     "text": [
      "Country\n",
      "United Kingdom    4263829\n",
      "Netherlands        200128\n",
      "EIRE               142637\n",
      "Name: Quantity, dtype: int64\n"
     ]
    }
   ],
   "source": [
    "top_3_sales = df.groupby('Country')['Quantity'].sum().sort_values(ascending=False).head(3)\n",
    "print(top_3_sales)"
   ]
  },
  {
   "cell_type": "code",
   "execution_count": 21,
   "metadata": {},
   "outputs": [
    {
     "name": "stdout",
     "output_type": "stream",
     "text": [
      "Country\n",
      "Saudi Arabia     75\n",
      "Bahrain         260\n",
      "RSA             352\n",
      "Name: Quantity, dtype: int64\n"
     ]
    }
   ],
   "source": [
    "Lowest_3_sales = df.groupby('Country')['Quantity'].sum().sort_values(ascending=True).head(3)\n",
    "print(Lowest_3_sales)"
   ]
  }
 ],
 "metadata": {
  "kernelspec": {
   "display_name": "ml",
   "language": "python",
   "name": "python3"
  },
  "language_info": {
   "codemirror_mode": {
    "name": "ipython",
    "version": 3
   },
   "file_extension": ".py",
   "mimetype": "text/x-python",
   "name": "python",
   "nbconvert_exporter": "python",
   "pygments_lexer": "ipython3",
   "version": "3.9.20"
  }
 },
 "nbformat": 4,
 "nbformat_minor": 2
}
